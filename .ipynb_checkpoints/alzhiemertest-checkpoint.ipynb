{
 "cells": [
  {
   "cell_type": "code",
   "execution_count": null,
   "id": "732aec1d-d841-47a2-80dc-8c2b0324c0de",
   "metadata": {},
   "outputs": [],
   "source": [
    "%time\n",
    "\n",
    "import numpy as np\n",
    "import tensorflow \n",
    "from tensorflow.keras.preprocessing import image\n",
    "import matplotlib.pyplot as plt\n",
    "import cv2\n",
    "import torch\n",
    "import torchvision\n",
    "from torchvision import transforms as T\n",
    "import warnings\n",
    "\n",
    "from PIL import Image\n",
    "#from google.colab.patches import cv2_imshow"
   ]
  },
  {
   "cell_type": "code",
   "execution_count": null,
   "id": "a20776a2-2272-41f9-a73f-c1ce8ea3a30d",
   "metadata": {},
   "outputs": [],
   "source": [
    "warnings.filterwarnings(\"ignore\", category=DeprecationWarning)\n",
    "\n",
    "def image_prediction(new_image_path):\n",
    "    test_image = image.load_img(new_image_path, target_size = (224, 224))\n",
    "    test_image = image.img_to_array(test_image)\n",
    "    #test_image = np.reshape(test_image, (224, 224, 3))\n",
    "    test_image = np.expand_dims(test_image, axis = 0)\n",
    "    test_image = test_image / 255.0\n",
    "    model_loaded = tensorflow.keras.models.load_model(\"my_alzhiemer_VGG16_model.keras\")\n",
    "    prediction = model_loaded.predict(test_image)\n",
    "    image_for_plotting = cv2.imread(new_image_path)\n",
    "    image_for_plotting = cv2.cvtColor(image_for_plotting, cv2.COLOR_BGR2RGB)\n",
    "    #test_image_for_plotting = image.load_img(new_image_path, target_size = (224, 224))\n",
    "    #plt.imshow(test_image_for_plotting)\n",
    "    if(prediction[0] > 0.5):\n",
    "        statistic = prediction[0] * 100 \n",
    "        print(\"This image is %.3f percent %s\"% (statistic, \"N O R M A L\"))\n",
    "        cv2.rectangle(image_for_plotting, (0, 0), (224, 224), (0, 255, 0), thickness=10)\n",
    "        precision = 100 - statistic\n",
    "        print(\"Precision: %.3f%%\" % precision)\n",
    "    else:\n",
    "        statistic = (1.0 - prediction[0]) * 100\n",
    "        print(\"This image is %.3f percent %s\" % (statistic, \"D E M E N T E D\"))\n",
    "        cv2.rectangle(image_for_plotting, (0, 0), (224, 224), (255, 0, 0), thickness=10)\n",
    "        precision = statistic \n",
    "        print(\"Precision: %.3f%%\" % precision)\n",
    "     \n",
    "    plt.imshow(image_for_plotting)\n",
    "    plt.show()\n",
    "# call and use the function\n",
    "\n",
    "#image_prediction()\n",
    "image_prediction(\"C:\\\\Users\\\\HP\\\\Downloads\\\\Alzheimer_s Dataset\\\\test\\\\NORMAL\\\\30 (6).jpg\")\n",
    "\n"
   ]
  }
 ],
 "metadata": {
  "kernelspec": {
   "display_name": "Python 3 (ipykernel)",
   "language": "python",
   "name": "python3"
  },
  "language_info": {
   "codemirror_mode": {
    "name": "ipython",
    "version": 3
   },
   "file_extension": ".py",
   "mimetype": "text/x-python",
   "name": "python",
   "nbconvert_exporter": "python",
   "pygments_lexer": "ipython3",
   "version": "3.12.3"
  }
 },
 "nbformat": 4,
 "nbformat_minor": 5
}
