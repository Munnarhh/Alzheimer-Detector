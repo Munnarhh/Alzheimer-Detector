{
 "cells": [
  {
   "cell_type": "code",
   "execution_count": 1,
   "id": "e0693343-5ccc-41af-a508-01a7a8a55b8c",
   "metadata": {},
   "outputs": [],
   "source": [
    "from flask import Flask, render_template, request, jsonify, redirect, url_for\n",
    "from flask_sqlalchemy import SQLAlchemy\n",
    "from datetime import datetime"
   ]
  },
  {
   "cell_type": "code",
   "execution_count": 2,
   "id": "1df3b8be-f3ba-452d-99a5-55900516af13",
   "metadata": {},
   "outputs": [],
   "source": [
    "app = Flask(__name__)\n",
    "app.config['SQLALCHEMY_DATABASE_URI'] = 'sqlite:///db.sqlite3'\n",
    "app.config['SQLALCHEMY_TRACK_MODIFICATIONS'] = False \n",
    "\n",
    "db = SQLAlchemy(app)\n",
    "\n",
    "class AlzhiemerPatient(db.Model):\n",
    "    id = db.Column(db.Integer, primary_key=True)\n",
    "    Name = db.Column(db.String(500), nullable = False)\n",
    "    Email = db.Column(db.String(100), nullable = False)\n",
    "    Phone_Number = db.Column(db.String(12), nullable = False)\n",
    "    Message = db.Column(db.String(1000), nullable = False)\n",
    "    Date_joined = db.Column(db.Date, default=datetime.utcnow)\n",
    "\n",
    "    def __repr__(self):\n",
    "        return f'<AlzhiemerPatient: {self.id}, {self.Name}, {self.Email}, {self.Phone_Number}, {self.Message}, {self.Date_joined}>'"
   ]
  },
  {
   "cell_type": "code",
   "execution_count": 3,
   "id": "5402d378-23bf-4d09-bb36-f002e1bb0099",
   "metadata": {},
   "outputs": [],
   "source": [
    "with app.app_context():\n",
    "    db.create_all()"
   ]
  },
  {
   "cell_type": "code",
   "execution_count": 4,
   "id": "fbedc01a-c32b-4cfb-b47a-ff128aa79372",
   "metadata": {},
   "outputs": [
    {
     "name": "stdout",
     "output_type": "stream",
     "text": [
      "ID: 1, Name: John Doe, Email: john.doe@example.com, Phone Number: 1234567890, Message: This is a test message., Date Joined: 2024-06-10\n",
      "ID: 2, Name: test Doe, Email: test.doe@example.com, Phone Number: 838422890, Message: This is a test message., Date Joined: 2024-06-10\n",
      "ID: 3, Name: testing Doe, Email: testing.doe@example.com, Phone Number: 838422890, Message: This is a test message., Date Joined: 2024-06-10\n",
      "ID: 4, Name: Samuel, Email: samuelbenibeh@gmail.com, Phone Number: 81654388838, Message: thank you, Date Joined: 2024-06-10\n",
      "ID: 5, Name: , Email: , Phone Number: , Message: , Date Joined: 2024-06-10\n",
      "ID: 6, Name: , Email: , Phone Number: , Message: , Date Joined: 2024-06-10\n",
      "ID: 7, Name: , Email: , Phone Number: , Message: , Date Joined: 2024-06-10\n",
      "ID: 8, Name: , Email: , Phone Number: , Message: , Date Joined: 2024-06-10\n",
      "ID: 9, Name: fnknofnwn, Email: fhkjkefnoena@gmail.com, Phone Number: 39498949202, Message: , Date Joined: 2024-06-10\n"
     ]
    }
   ],
   "source": [
    "with app.app_context():\n",
    "    all_entries = AlzhiemerPatient.query.all()\n",
    "    for entry in all_entries:\n",
    "        print(f'ID: {entry.id}, Name: {entry.Name}, Email: {entry.Email}, Phone Number: {entry.Phone_Number}, Message: {entry.Message}, Date Joined: {entry.Date_joined}')\n"
   ]
  },
  {
   "cell_type": "code",
   "execution_count": null,
   "id": "407bf317-da7b-407d-be49-6e36b1f2e77e",
   "metadata": {},
   "outputs": [],
   "source": []
  }
 ],
 "metadata": {
  "kernelspec": {
   "display_name": "Python 3 (ipykernel)",
   "language": "python",
   "name": "python3"
  },
  "language_info": {
   "codemirror_mode": {
    "name": "ipython",
    "version": 3
   },
   "file_extension": ".py",
   "mimetype": "text/x-python",
   "name": "python",
   "nbconvert_exporter": "python",
   "pygments_lexer": "ipython3",
   "version": "3.12.3"
  }
 },
 "nbformat": 4,
 "nbformat_minor": 5
}
