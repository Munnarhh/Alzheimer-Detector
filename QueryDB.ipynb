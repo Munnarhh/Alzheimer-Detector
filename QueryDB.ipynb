{
 "cells": [
  {
   "cell_type": "code",
   "execution_count": 1,
   "id": "e0693343-5ccc-41af-a508-01a7a8a55b8c",
   "metadata": {},
   "outputs": [],
   "source": [
    "from flask import Flask, render_template, request, jsonify, redirect, url_for\n",
    "from flask_sqlalchemy import SQLAlchemy\n",
    "from datetime import datetime, timezone\n",
    "from sqlalchemy.orm import sessionmaker"
   ]
  },
  {
   "cell_type": "code",
   "execution_count": 2,
   "id": "1df3b8be-f3ba-452d-99a5-55900516af13",
   "metadata": {},
   "outputs": [],
   "source": [
    "app = Flask(__name__)\n",
    "app.config['SQLALCHEMY_DATABASE_URI'] = 'sqlite:///db.sqlite3'\n",
    "app.config['SQLALCHEMY_TRACK_MODIFICATIONS'] = False \n",
    "\n",
    "db = SQLAlchemy(app)\n",
    "\n",
    "class AlzhiemerPatient(db.Model):\n",
    "    id = db.Column(db.Integer, primary_key=True)\n",
    "    Name = db.Column(db.String(500), nullable = False)\n",
    "    Email = db.Column(db.String(100), nullable = False)\n",
    "    Phone_Number = db.Column(db.String(12), nullable = False)\n",
    "    Message = db.Column(db.String(1000), nullable = False)\n",
    "    Date_joined = db.Column(db.Date, default=datetime.utcnow)\n",
    "\n",
    "    def __repr__(self):\n",
    "        return f'<AlzhiemerPatient: {self.id}, {self.Name}, {self.Email}, {self.Phone_Number}, {self.Message}, {self.Date_joined}>'"
   ]
  },
  {
   "cell_type": "code",
   "execution_count": 3,
   "id": "5402d378-23bf-4d09-bb36-f002e1bb0099",
   "metadata": {},
   "outputs": [],
   "source": [
    "with app.app_context():\n",
    "    db.create_all()"
   ]
  },
  {
   "cell_type": "markdown",
   "id": "64cb73c6-3bbc-470b-8533-45e7abf785ad",
   "metadata": {},
   "source": [
    "# ADD TO DATABASE"
   ]
  },
  {
   "cell_type": "code",
   "execution_count": 60,
   "id": "63223f8f-7e66-4c50-a31f-c04324f01d58",
   "metadata": {},
   "outputs": [],
   "source": [
    "with app.app_context():\n",
    "    \n",
    "    new_patient = AlzhiemerPatient(\n",
    "        Name=\"Bnjamin\",\n",
    "        Email=\"lnol@gmail.com\",\n",
    "        Phone_Number=\"80384\",\n",
    "        Message=\"\"\n",
    "    )\n",
    "    \n",
    "    db.session.add(new_patient)\n",
    "    db.session.commit()"
   ]
  },
  {
   "cell_type": "markdown",
   "id": "ad9f6388-14d3-46c7-bb9a-32d1d029e02b",
   "metadata": {},
   "source": [
    "# FETCH FROM DATABASE"
   ]
  },
  {
   "cell_type": "code",
   "execution_count": 9,
   "id": "fbedc01a-c32b-4cfb-b47a-ff128aa79372",
   "metadata": {},
   "outputs": [],
   "source": [
    "with app.app_context():\n",
    "    \n",
    "    all_entries = AlzhiemerPatient.query.all()\n",
    "    \n",
    "    for entry in all_entries:\n",
    "        print(f'ID: {entry.id}, Name: {entry.Name}, Email: {entry.Email}, Phone Number: {entry.Phone_Number}, Message: {entry.Message}, Date Joined: {entry.Date_joined}')\n"
   ]
  },
  {
   "cell_type": "markdown",
   "id": "ad323325-a03e-4f4f-a5bd-659c59f9934e",
   "metadata": {},
   "source": [
    "# UPDATE FROM DATABASE"
   ]
  },
  {
   "cell_type": "code",
   "execution_count": 50,
   "id": "407bf317-da7b-407d-be49-6e36b1f2e77e",
   "metadata": {},
   "outputs": [
    {
     "name": "stdout",
     "output_type": "stream",
     "text": [
      "Entry with ID 1 not found.\n"
     ]
    }
   ],
   "source": [
    "with app.app_context():\n",
    "    entry_id = 1\n",
    "    entry = db.session.get(AlzhiemerPatient, entry_id)\n",
    "\n",
    "    if entry:\n",
    "        entry.Name = \"New Name3\"\n",
    "        entry.Email = \"new_email@example.com\"\n",
    "        entry.Phone_Number = \"123-456-7890\"\n",
    "        entry.Message = \"Updated message\"\n",
    "        entry.Date_joined = datetime.now(timezone.utc)\n",
    "\n",
    "        db.session.commit()\n",
    "        print(f'ID: {entry.id}, Name: {entry.Name}, Email: {entry.Email}, Phone Number: {entry.Phone_Number}, Message: {entry.Message}, Date Joined: {entry.Date_joined}')\n",
    "    else:\n",
    "        print(f'Entry with ID {entry_id} not found.')\n"
   ]
  },
  {
   "cell_type": "markdown",
   "id": "e8374c9a-86e1-4d75-9355-8ce86405b665",
   "metadata": {},
   "source": [
    "# DELETE FROM DATABASE"
   ]
  },
  {
   "cell_type": "code",
   "execution_count": 8,
   "id": "0b6d22fc-6a6a-44c6-96f9-e1889f564816",
   "metadata": {},
   "outputs": [
    {
     "name": "stdout",
     "output_type": "stream",
     "text": [
      "Entry with ID 2 has been deleted.\n"
     ]
    }
   ],
   "source": [
    "with app.app_context():\n",
    "    entry_id = 2\n",
    "    Session = sessionmaker(bind=db.engine)\n",
    "    session = Session()\n",
    "\n",
    "    try:\n",
    "        entry = session.get(AlzhiemerPatient, entry_id)\n",
    "        if entry:\n",
    "            session.delete(entry)\n",
    "            session.commit()\n",
    "            print(f'Entry with ID {entry.id} has been deleted.')\n",
    "        else:\n",
    "            print(f'Entry with ID {entry_id} not found.')\n",
    "    finally:\n",
    "        session.close()\n"
   ]
  },
  {
   "cell_type": "code",
   "execution_count": null,
   "id": "89f9ce47-a99f-4c04-a322-900e768e6dc1",
   "metadata": {},
   "outputs": [],
   "source": []
  }
 ],
 "metadata": {
  "kernelspec": {
   "display_name": "Python 3 (ipykernel)",
   "language": "python",
   "name": "python3"
  },
  "language_info": {
   "codemirror_mode": {
    "name": "ipython",
    "version": 3
   },
   "file_extension": ".py",
   "mimetype": "text/x-python",
   "name": "python",
   "nbconvert_exporter": "python",
   "pygments_lexer": "ipython3",
   "version": "3.12.3"
  }
 },
 "nbformat": 4,
 "nbformat_minor": 5
}
